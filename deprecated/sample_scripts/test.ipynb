{
 "cells": [
  {
   "cell_type": "code",
   "execution_count": 1,
   "id": "interstate-aquatic",
   "metadata": {},
   "outputs": [],
   "source": [
    "import logging\n",
    "import time\n",
    "from datetime import datetime"
   ]
  },
  {
   "cell_type": "code",
   "execution_count": 2,
   "id": "statewide-scratch",
   "metadata": {
    "tags": [
     "parameters"
    ]
   },
   "outputs": [],
   "source": [
    "out_dir=\".\"\n",
    "in_dir=\".\"\n",
    "gpu=\"5\""
   ]
  },
  {
   "cell_type": "code",
   "execution_count": 3,
   "id": "dressed-robert",
   "metadata": {},
   "outputs": [
    {
     "name": "stdout",
     "output_type": "stream",
     "text": [
      "07272021_231523\n"
     ]
    }
   ],
   "source": [
    "arguments = {\n",
    "\"out_dir\" : out_dir,\n",
    "\"in_dir\": in_dir,\n",
    "\"gpu\" : gpu,\n",
    "}\n",
    "dt=datetime.now().strftime(\"%m%d%Y_%H%M%S\")\n",
    "print(dt)"
   ]
  },
  {
   "cell_type": "code",
   "execution_count": 5,
   "id": "strategic-ethnic",
   "metadata": {},
   "outputs": [],
   "source": [
    "logging.basicConfig(filename='{out_dir}/test_notebook.log'.format(out_dir=out_dir),\n",
    "                    level=logging.DEBUG,\n",
    "                    format='%(asctime)s|%(filename)s|%(levelname)s|%(message)s')\n",
    "\n",
    "logging.debug(\"Started the notebook execution at {}\".format(datetime.now()))\n",
    "\n",
    "logging.debug(\"Preparing debug logs.\")\n",
    "\n",
    "\n",
    "logging.debug(\"Arguments passed: \")\n",
    "logging.debug(arguments)\n",
    "\n",
    "logging.debug(\"Starting the py script.\")\n",
    "\n",
    "logging.debug(\"Processing sleep 2\")\n",
    "\n",
    "time.sleep(2)\n",
    "logging.debug(\"complete\")\n",
    "\n",
    "logging.debug(\"Processing another sleep 2\")\n",
    "time.sleep(2)\n",
    "logging.debug(\"complete\")\n",
    "\n",
    "logging.debug(\"End of the script\")"
   ]
  },
  {
   "cell_type": "code",
   "execution_count": null,
   "id": "military-contents",
   "metadata": {},
   "outputs": [],
   "source": []
  }
 ],
 "metadata": {
  "kernelspec": {
   "display_name": "Python 3",
   "language": "python",
   "name": "python3"
  },
  "language_info": {
   "codemirror_mode": {
    "name": "ipython",
    "version": 3
   },
   "file_extension": ".py",
   "mimetype": "text/x-python",
   "name": "python",
   "nbconvert_exporter": "python",
   "pygments_lexer": "ipython3",
   "version": "3.9.1"
  }
 },
 "nbformat": 4,
 "nbformat_minor": 5
}
